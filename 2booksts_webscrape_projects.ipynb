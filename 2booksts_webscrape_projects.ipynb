{
 "cells": [
  {
   "cell_type": "code",
   "execution_count": 3,
   "id": "e235b670",
   "metadata": {},
   "outputs": [],
   "source": [
    "# importing the required libraries\n",
    "import requests\n",
    "import re\n",
    "from bs4 import BeautifulSoup\n",
    "import pandas as pd"
   ]
  },
  {
   "cell_type": "code",
   "execution_count": 4,
   "id": "8b806290",
   "metadata": {},
   "outputs": [],
   "source": [
    "# calling out the headers and defining the url\n",
    "url = \"https://books.toscrape.com/catalogue/page-2.html\"\n",
    "\n",
    "# setting up a webpage\n",
    "response = requests.get(url)\n",
    "\n",
    "# using BeautifulSoup on a webpage\n",
    "soup = BeautifulSoup(response.content,\"html.parser\")"
   ]
  },
  {
   "cell_type": "code",
   "execution_count": 5,
   "id": "af21760a",
   "metadata": {},
   "outputs": [
    {
     "data": {
      "text/plain": [
       "'In Her Wake'"
      ]
     },
     "execution_count": 5,
     "metadata": {},
     "output_type": "execute_result"
    }
   ],
   "source": [
    "# extracting a specfic element\n",
    "title = soup.find(\"h3\").text\n",
    "title"
   ]
  },
  {
   "cell_type": "code",
   "execution_count": 6,
   "id": "c1bff636",
   "metadata": {},
   "outputs": [
    {
     "name": "stdout",
     "output_type": "stream",
     "text": [
      "In Her Wake\n",
      "How Music Works\n",
      "Foolproof Preserving: A Guide ...\n",
      "Chase Me (Paris Nights ...\n",
      "Black Dust\n",
      "Birdsong: A Story in ...\n",
      "America's Cradle of Quarterbacks: ...\n",
      "Aladdin and His Wonderful ...\n",
      "Worlds Elsewhere: Journeys Around ...\n",
      "Wall and Piece\n",
      "The Four Agreements: A ...\n",
      "The Five Love Languages: ...\n",
      "The Elephant Tree\n",
      "The Bear and the ...\n",
      "Sophie's World\n",
      "Penny Maybe\n",
      "Maude (1883-1993):She Grew Up ...\n",
      "In a Dark, Dark ...\n",
      "Behind Closed Doors\n",
      "You can't bury them ...\n"
     ]
    }
   ],
   "source": [
    "# scrapping the data\n",
    "for i in soup.find_all(\"h3\"):\n",
    "    print(i.text.strip())"
   ]
  },
  {
   "cell_type": "code",
   "execution_count": 7,
   "id": "44b2e615",
   "metadata": {},
   "outputs": [
    {
     "data": {
      "text/plain": [
       "['In Her Wake',\n",
       " 'How Music Works',\n",
       " 'Foolproof Preserving: A Guide ...',\n",
       " 'Chase Me (Paris Nights ...',\n",
       " 'Black Dust',\n",
       " 'Birdsong: A Story in ...',\n",
       " \"America's Cradle of Quarterbacks: ...\",\n",
       " 'Aladdin and His Wonderful ...',\n",
       " 'Worlds Elsewhere: Journeys Around ...',\n",
       " 'Wall and Piece',\n",
       " 'The Four Agreements: A ...',\n",
       " 'The Five Love Languages: ...',\n",
       " 'The Elephant Tree',\n",
       " 'The Bear and the ...',\n",
       " \"Sophie's World\",\n",
       " 'Penny Maybe',\n",
       " 'Maude (1883-1993):She Grew Up ...',\n",
       " 'In a Dark, Dark ...',\n",
       " 'Behind Closed Doors',\n",
       " \"You can't bury them ...\"]"
      ]
     },
     "execution_count": 7,
     "metadata": {},
     "output_type": "execute_result"
    }
   ],
   "source": [
    "# making an empty list \"book_name\"\n",
    "book_name=[]\n",
    "\n",
    "# appending the scraped data in the list student_name\n",
    "for i in soup.find_all(\"h3\"):\n",
    "    book_name.append(i.text.strip())\n",
    "    \n",
    "book_name"
   ]
  },
  {
   "cell_type": "code",
   "execution_count": 8,
   "id": "cf9d6f03",
   "metadata": {},
   "outputs": [
    {
     "data": {
      "text/plain": [
       "20"
      ]
     },
     "execution_count": 8,
     "metadata": {},
     "output_type": "execute_result"
    }
   ],
   "source": [
    "# number of rows\n",
    "len(book_name)"
   ]
  },
  {
   "cell_type": "code",
   "execution_count": 9,
   "id": "9543d843",
   "metadata": {
    "scrolled": true
   },
   "outputs": [
    {
     "data": {
      "text/plain": [
       "['',\n",
       " '£12.84',\n",
       " 'In stock',\n",
       " '',\n",
       " '£37.32',\n",
       " 'In stock',\n",
       " '',\n",
       " '£30.52',\n",
       " 'In stock',\n",
       " '',\n",
       " '£25.27',\n",
       " 'In stock',\n",
       " '',\n",
       " '£34.53',\n",
       " 'In stock',\n",
       " '',\n",
       " '£54.64',\n",
       " 'In stock',\n",
       " '',\n",
       " '£22.50',\n",
       " 'In stock',\n",
       " '',\n",
       " '£53.13',\n",
       " 'In stock',\n",
       " '',\n",
       " '£40.30',\n",
       " 'In stock',\n",
       " '',\n",
       " '£44.18',\n",
       " 'In stock',\n",
       " '',\n",
       " '£17.66',\n",
       " 'In stock',\n",
       " '',\n",
       " '£31.05',\n",
       " 'In stock',\n",
       " '',\n",
       " '£23.82',\n",
       " 'In stock',\n",
       " '',\n",
       " '£36.89',\n",
       " 'In stock',\n",
       " '',\n",
       " '£15.94',\n",
       " 'In stock',\n",
       " '',\n",
       " '£33.29',\n",
       " 'In stock',\n",
       " '',\n",
       " '£18.02',\n",
       " 'In stock',\n",
       " '',\n",
       " '£19.63',\n",
       " 'In stock',\n",
       " '',\n",
       " '£52.22',\n",
       " 'In stock',\n",
       " '',\n",
       " '£33.63',\n",
       " 'In stock']"
      ]
     },
     "execution_count": 9,
     "metadata": {},
     "output_type": "execute_result"
    }
   ],
   "source": [
    "# making another empty list and applying same (appending the data in the list)\n",
    "price_avail=[]\n",
    "for i in soup.find_all(\"p\"):\n",
    "    price_avail.append(i.text.strip())\n",
    "    \n",
    "price_avail"
   ]
  },
  {
   "cell_type": "code",
   "execution_count": 10,
   "id": "b9a176c0",
   "metadata": {},
   "outputs": [
    {
     "data": {
      "text/plain": [
       "20"
      ]
     },
     "execution_count": 10,
     "metadata": {},
     "output_type": "execute_result"
    }
   ],
   "source": [
    "# finding the number of rows in both lists. (both should be equal)\n",
    "\n",
    "price= price_avail[1::3]\n",
    "len(price)"
   ]
  },
  {
   "cell_type": "code",
   "execution_count": 11,
   "id": "24941573",
   "metadata": {},
   "outputs": [
    {
     "data": {
      "text/plain": [
       "20"
      ]
     },
     "execution_count": 11,
     "metadata": {},
     "output_type": "execute_result"
    }
   ],
   "source": [
    "stock= price_avail[2::3]\n",
    "len(stock)"
   ]
  },
  {
   "cell_type": "code",
   "execution_count": 12,
   "id": "d944750c",
   "metadata": {},
   "outputs": [],
   "source": [
    "# making a dictionary to create a data frame\n",
    "dict = {\n",
    "    \"book_name\":book_name,\n",
    "    \"price\":price,\n",
    "    \"stock\":stock\n",
    "}"
   ]
  },
  {
   "cell_type": "code",
   "execution_count": 13,
   "id": "34379aa3",
   "metadata": {},
   "outputs": [
    {
     "data": {
      "text/html": [
       "<div>\n",
       "<style scoped>\n",
       "    .dataframe tbody tr th:only-of-type {\n",
       "        vertical-align: middle;\n",
       "    }\n",
       "\n",
       "    .dataframe tbody tr th {\n",
       "        vertical-align: top;\n",
       "    }\n",
       "\n",
       "    .dataframe thead th {\n",
       "        text-align: right;\n",
       "    }\n",
       "</style>\n",
       "<table border=\"1\" class=\"dataframe\">\n",
       "  <thead>\n",
       "    <tr style=\"text-align: right;\">\n",
       "      <th></th>\n",
       "      <th>book_name</th>\n",
       "      <th>price</th>\n",
       "      <th>stock</th>\n",
       "    </tr>\n",
       "  </thead>\n",
       "  <tbody>\n",
       "    <tr>\n",
       "      <th>0</th>\n",
       "      <td>In Her Wake</td>\n",
       "      <td>£12.84</td>\n",
       "      <td>In stock</td>\n",
       "    </tr>\n",
       "    <tr>\n",
       "      <th>1</th>\n",
       "      <td>How Music Works</td>\n",
       "      <td>£37.32</td>\n",
       "      <td>In stock</td>\n",
       "    </tr>\n",
       "    <tr>\n",
       "      <th>2</th>\n",
       "      <td>Foolproof Preserving: A Guide ...</td>\n",
       "      <td>£30.52</td>\n",
       "      <td>In stock</td>\n",
       "    </tr>\n",
       "    <tr>\n",
       "      <th>3</th>\n",
       "      <td>Chase Me (Paris Nights ...</td>\n",
       "      <td>£25.27</td>\n",
       "      <td>In stock</td>\n",
       "    </tr>\n",
       "    <tr>\n",
       "      <th>4</th>\n",
       "      <td>Black Dust</td>\n",
       "      <td>£34.53</td>\n",
       "      <td>In stock</td>\n",
       "    </tr>\n",
       "    <tr>\n",
       "      <th>5</th>\n",
       "      <td>Birdsong: A Story in ...</td>\n",
       "      <td>£54.64</td>\n",
       "      <td>In stock</td>\n",
       "    </tr>\n",
       "    <tr>\n",
       "      <th>6</th>\n",
       "      <td>America's Cradle of Quarterbacks: ...</td>\n",
       "      <td>£22.50</td>\n",
       "      <td>In stock</td>\n",
       "    </tr>\n",
       "    <tr>\n",
       "      <th>7</th>\n",
       "      <td>Aladdin and His Wonderful ...</td>\n",
       "      <td>£53.13</td>\n",
       "      <td>In stock</td>\n",
       "    </tr>\n",
       "    <tr>\n",
       "      <th>8</th>\n",
       "      <td>Worlds Elsewhere: Journeys Around ...</td>\n",
       "      <td>£40.30</td>\n",
       "      <td>In stock</td>\n",
       "    </tr>\n",
       "    <tr>\n",
       "      <th>9</th>\n",
       "      <td>Wall and Piece</td>\n",
       "      <td>£44.18</td>\n",
       "      <td>In stock</td>\n",
       "    </tr>\n",
       "    <tr>\n",
       "      <th>10</th>\n",
       "      <td>The Four Agreements: A ...</td>\n",
       "      <td>£17.66</td>\n",
       "      <td>In stock</td>\n",
       "    </tr>\n",
       "    <tr>\n",
       "      <th>11</th>\n",
       "      <td>The Five Love Languages: ...</td>\n",
       "      <td>£31.05</td>\n",
       "      <td>In stock</td>\n",
       "    </tr>\n",
       "    <tr>\n",
       "      <th>12</th>\n",
       "      <td>The Elephant Tree</td>\n",
       "      <td>£23.82</td>\n",
       "      <td>In stock</td>\n",
       "    </tr>\n",
       "    <tr>\n",
       "      <th>13</th>\n",
       "      <td>The Bear and the ...</td>\n",
       "      <td>£36.89</td>\n",
       "      <td>In stock</td>\n",
       "    </tr>\n",
       "    <tr>\n",
       "      <th>14</th>\n",
       "      <td>Sophie's World</td>\n",
       "      <td>£15.94</td>\n",
       "      <td>In stock</td>\n",
       "    </tr>\n",
       "    <tr>\n",
       "      <th>15</th>\n",
       "      <td>Penny Maybe</td>\n",
       "      <td>£33.29</td>\n",
       "      <td>In stock</td>\n",
       "    </tr>\n",
       "    <tr>\n",
       "      <th>16</th>\n",
       "      <td>Maude (1883-1993):She Grew Up ...</td>\n",
       "      <td>£18.02</td>\n",
       "      <td>In stock</td>\n",
       "    </tr>\n",
       "    <tr>\n",
       "      <th>17</th>\n",
       "      <td>In a Dark, Dark ...</td>\n",
       "      <td>£19.63</td>\n",
       "      <td>In stock</td>\n",
       "    </tr>\n",
       "    <tr>\n",
       "      <th>18</th>\n",
       "      <td>Behind Closed Doors</td>\n",
       "      <td>£52.22</td>\n",
       "      <td>In stock</td>\n",
       "    </tr>\n",
       "    <tr>\n",
       "      <th>19</th>\n",
       "      <td>You can't bury them ...</td>\n",
       "      <td>£33.63</td>\n",
       "      <td>In stock</td>\n",
       "    </tr>\n",
       "  </tbody>\n",
       "</table>\n",
       "</div>"
      ],
      "text/plain": [
       "                                book_name   price     stock\n",
       "0                             In Her Wake  £12.84  In stock\n",
       "1                         How Music Works  £37.32  In stock\n",
       "2       Foolproof Preserving: A Guide ...  £30.52  In stock\n",
       "3              Chase Me (Paris Nights ...  £25.27  In stock\n",
       "4                              Black Dust  £34.53  In stock\n",
       "5                Birdsong: A Story in ...  £54.64  In stock\n",
       "6   America's Cradle of Quarterbacks: ...  £22.50  In stock\n",
       "7           Aladdin and His Wonderful ...  £53.13  In stock\n",
       "8   Worlds Elsewhere: Journeys Around ...  £40.30  In stock\n",
       "9                          Wall and Piece  £44.18  In stock\n",
       "10             The Four Agreements: A ...  £17.66  In stock\n",
       "11           The Five Love Languages: ...  £31.05  In stock\n",
       "12                      The Elephant Tree  £23.82  In stock\n",
       "13                   The Bear and the ...  £36.89  In stock\n",
       "14                         Sophie's World  £15.94  In stock\n",
       "15                            Penny Maybe  £33.29  In stock\n",
       "16      Maude (1883-1993):She Grew Up ...  £18.02  In stock\n",
       "17                    In a Dark, Dark ...  £19.63  In stock\n",
       "18                    Behind Closed Doors  £52.22  In stock\n",
       "19                You can't bury them ...  £33.63  In stock"
      ]
     },
     "execution_count": 13,
     "metadata": {},
     "output_type": "execute_result"
    }
   ],
   "source": [
    "# creating a dataframe of the dictionary\n",
    "df=pd.DataFrame(dict)\n",
    "df"
   ]
  },
  {
   "cell_type": "code",
   "execution_count": 14,
   "id": "4f8daef5",
   "metadata": {},
   "outputs": [],
   "source": [
    "# for multiple pages we need to run the loop while repeating the entire steps\n",
    "\n",
    "# creating the lists\n",
    "book_name_new = []\n",
    "price_new=[]\n",
    "stock_new =[]"
   ]
  },
  {
   "cell_type": "code",
   "execution_count": 15,
   "id": "deaabc03",
   "metadata": {},
   "outputs": [],
   "source": [
    "# appending the data in the lists degree and course_name\n",
    "for i in range(1,51):\n",
    "    url_new = f\"https://books.toscrape.com/catalogue/page-{i}.html\"\n",
    "    response_new = requests.get(url_new)\n",
    "    soup_new = BeautifulSoup(response_new.content,\"html.parser\")\n",
    "    \n",
    "    for i in soup_new.find_all(\"h3\"):\n",
    "        book_name_new.append(i.text.strip())"
   ]
  },
  {
   "cell_type": "code",
   "execution_count": 16,
   "id": "266a17a9",
   "metadata": {},
   "outputs": [
    {
     "data": {
      "text/plain": [
       "1000"
      ]
     },
     "execution_count": 16,
     "metadata": {},
     "output_type": "execute_result"
    }
   ],
   "source": [
    "len(book_name_new)"
   ]
  },
  {
   "cell_type": "code",
   "execution_count": 17,
   "id": "13f764b1",
   "metadata": {},
   "outputs": [],
   "source": [
    "price_avail_new = []\n",
    "for i in range(1,51):\n",
    "    url_new = f\"https://books.toscrape.com/catalogue/page-{i}.html\"\n",
    "    response_new = requests.get(url_new)\n",
    "    soup_new = BeautifulSoup(response_new.content,\"html.parser\")\n",
    "    \n",
    "    for i in soup_new.find_all(\"p\"):\n",
    "        price_avail_new.append(i.text.strip())"
   ]
  },
  {
   "cell_type": "code",
   "execution_count": 18,
   "id": "e1fd7f30",
   "metadata": {},
   "outputs": [
    {
     "data": {
      "text/plain": [
       "3000"
      ]
     },
     "execution_count": 18,
     "metadata": {},
     "output_type": "execute_result"
    }
   ],
   "source": [
    "len(price_avail_new)"
   ]
  },
  {
   "cell_type": "code",
   "execution_count": 19,
   "id": "ef4bf10b",
   "metadata": {},
   "outputs": [
    {
     "data": {
      "text/plain": [
       "1000"
      ]
     },
     "execution_count": 19,
     "metadata": {},
     "output_type": "execute_result"
    }
   ],
   "source": [
    "price_new= price_avail_new[1::3]\n",
    "len(price_new)"
   ]
  },
  {
   "cell_type": "code",
   "execution_count": 20,
   "id": "57d94740",
   "metadata": {},
   "outputs": [
    {
     "data": {
      "text/plain": [
       "1000"
      ]
     },
     "execution_count": 20,
     "metadata": {},
     "output_type": "execute_result"
    }
   ],
   "source": [
    "stock_new= price_avail_new[2::3]\n",
    "len(stock_new)"
   ]
  },
  {
   "cell_type": "code",
   "execution_count": 21,
   "id": "90541a01",
   "metadata": {},
   "outputs": [],
   "source": [
    "# creating the new dictionary again as dict and making a datafram of the dictionary\n",
    "dict_new = {\n",
    "    \"book_name\": book_name_new,\n",
    "    \"price\" : price_new,\n",
    "    \"stock\" : stock_new\n",
    "}"
   ]
  },
  {
   "cell_type": "code",
   "execution_count": 22,
   "id": "a77b972f",
   "metadata": {},
   "outputs": [
    {
     "data": {
      "text/html": [
       "<div>\n",
       "<style scoped>\n",
       "    .dataframe tbody tr th:only-of-type {\n",
       "        vertical-align: middle;\n",
       "    }\n",
       "\n",
       "    .dataframe tbody tr th {\n",
       "        vertical-align: top;\n",
       "    }\n",
       "\n",
       "    .dataframe thead th {\n",
       "        text-align: right;\n",
       "    }\n",
       "</style>\n",
       "<table border=\"1\" class=\"dataframe\">\n",
       "  <thead>\n",
       "    <tr style=\"text-align: right;\">\n",
       "      <th></th>\n",
       "      <th>book_name</th>\n",
       "      <th>price</th>\n",
       "      <th>stock</th>\n",
       "    </tr>\n",
       "  </thead>\n",
       "  <tbody>\n",
       "    <tr>\n",
       "      <th>0</th>\n",
       "      <td>A Light in the ...</td>\n",
       "      <td>£51.77</td>\n",
       "      <td>In stock</td>\n",
       "    </tr>\n",
       "    <tr>\n",
       "      <th>1</th>\n",
       "      <td>Tipping the Velvet</td>\n",
       "      <td>£53.74</td>\n",
       "      <td>In stock</td>\n",
       "    </tr>\n",
       "    <tr>\n",
       "      <th>2</th>\n",
       "      <td>Soumission</td>\n",
       "      <td>£50.10</td>\n",
       "      <td>In stock</td>\n",
       "    </tr>\n",
       "    <tr>\n",
       "      <th>3</th>\n",
       "      <td>Sharp Objects</td>\n",
       "      <td>£47.82</td>\n",
       "      <td>In stock</td>\n",
       "    </tr>\n",
       "    <tr>\n",
       "      <th>4</th>\n",
       "      <td>Sapiens: A Brief History ...</td>\n",
       "      <td>£54.23</td>\n",
       "      <td>In stock</td>\n",
       "    </tr>\n",
       "    <tr>\n",
       "      <th>...</th>\n",
       "      <td>...</td>\n",
       "      <td>...</td>\n",
       "      <td>...</td>\n",
       "    </tr>\n",
       "    <tr>\n",
       "      <th>995</th>\n",
       "      <td>Alice in Wonderland (Alice's ...</td>\n",
       "      <td>£55.53</td>\n",
       "      <td>In stock</td>\n",
       "    </tr>\n",
       "    <tr>\n",
       "      <th>996</th>\n",
       "      <td>Ajin: Demi-Human, Volume 1 ...</td>\n",
       "      <td>£57.06</td>\n",
       "      <td>In stock</td>\n",
       "    </tr>\n",
       "    <tr>\n",
       "      <th>997</th>\n",
       "      <td>A Spy's Devotion (The ...</td>\n",
       "      <td>£16.97</td>\n",
       "      <td>In stock</td>\n",
       "    </tr>\n",
       "    <tr>\n",
       "      <th>998</th>\n",
       "      <td>1st to Die (Women's ...</td>\n",
       "      <td>£53.98</td>\n",
       "      <td>In stock</td>\n",
       "    </tr>\n",
       "    <tr>\n",
       "      <th>999</th>\n",
       "      <td>1,000 Places to See ...</td>\n",
       "      <td>£26.08</td>\n",
       "      <td>In stock</td>\n",
       "    </tr>\n",
       "  </tbody>\n",
       "</table>\n",
       "<p>1000 rows × 3 columns</p>\n",
       "</div>"
      ],
      "text/plain": [
       "                            book_name   price     stock\n",
       "0                  A Light in the ...  £51.77  In stock\n",
       "1                  Tipping the Velvet  £53.74  In stock\n",
       "2                          Soumission  £50.10  In stock\n",
       "3                       Sharp Objects  £47.82  In stock\n",
       "4        Sapiens: A Brief History ...  £54.23  In stock\n",
       "..                                ...     ...       ...\n",
       "995  Alice in Wonderland (Alice's ...  £55.53  In stock\n",
       "996    Ajin: Demi-Human, Volume 1 ...  £57.06  In stock\n",
       "997         A Spy's Devotion (The ...  £16.97  In stock\n",
       "998           1st to Die (Women's ...  £53.98  In stock\n",
       "999           1,000 Places to See ...  £26.08  In stock\n",
       "\n",
       "[1000 rows x 3 columns]"
      ]
     },
     "execution_count": 22,
     "metadata": {},
     "output_type": "execute_result"
    }
   ],
   "source": [
    "df_new = pd.DataFrame(dict_new)\n",
    "df_new"
   ]
  },
  {
   "cell_type": "code",
   "execution_count": 23,
   "id": "5b5898aa",
   "metadata": {},
   "outputs": [
    {
     "data": {
      "text/html": [
       "<div>\n",
       "<style scoped>\n",
       "    .dataframe tbody tr th:only-of-type {\n",
       "        vertical-align: middle;\n",
       "    }\n",
       "\n",
       "    .dataframe tbody tr th {\n",
       "        vertical-align: top;\n",
       "    }\n",
       "\n",
       "    .dataframe thead th {\n",
       "        text-align: right;\n",
       "    }\n",
       "</style>\n",
       "<table border=\"1\" class=\"dataframe\">\n",
       "  <thead>\n",
       "    <tr style=\"text-align: right;\">\n",
       "      <th></th>\n",
       "      <th>book_name</th>\n",
       "      <th>price</th>\n",
       "      <th>stock</th>\n",
       "    </tr>\n",
       "  </thead>\n",
       "  <tbody>\n",
       "    <tr>\n",
       "      <th>995</th>\n",
       "      <td>Alice in Wonderland (Alice's ...</td>\n",
       "      <td>£55.53</td>\n",
       "      <td>In stock</td>\n",
       "    </tr>\n",
       "    <tr>\n",
       "      <th>996</th>\n",
       "      <td>Ajin: Demi-Human, Volume 1 ...</td>\n",
       "      <td>£57.06</td>\n",
       "      <td>In stock</td>\n",
       "    </tr>\n",
       "    <tr>\n",
       "      <th>997</th>\n",
       "      <td>A Spy's Devotion (The ...</td>\n",
       "      <td>£16.97</td>\n",
       "      <td>In stock</td>\n",
       "    </tr>\n",
       "    <tr>\n",
       "      <th>998</th>\n",
       "      <td>1st to Die (Women's ...</td>\n",
       "      <td>£53.98</td>\n",
       "      <td>In stock</td>\n",
       "    </tr>\n",
       "    <tr>\n",
       "      <th>999</th>\n",
       "      <td>1,000 Places to See ...</td>\n",
       "      <td>£26.08</td>\n",
       "      <td>In stock</td>\n",
       "    </tr>\n",
       "  </tbody>\n",
       "</table>\n",
       "</div>"
      ],
      "text/plain": [
       "                            book_name   price     stock\n",
       "995  Alice in Wonderland (Alice's ...  £55.53  In stock\n",
       "996    Ajin: Demi-Human, Volume 1 ...  £57.06  In stock\n",
       "997         A Spy's Devotion (The ...  £16.97  In stock\n",
       "998           1st to Die (Women's ...  £53.98  In stock\n",
       "999           1,000 Places to See ...  £26.08  In stock"
      ]
     },
     "execution_count": 23,
     "metadata": {},
     "output_type": "execute_result"
    }
   ],
   "source": [
    "df_new.tail()"
   ]
  },
  {
   "cell_type": "code",
   "execution_count": 24,
   "id": "a31d120a",
   "metadata": {},
   "outputs": [
    {
     "data": {
      "text/html": [
       "<div>\n",
       "<style scoped>\n",
       "    .dataframe tbody tr th:only-of-type {\n",
       "        vertical-align: middle;\n",
       "    }\n",
       "\n",
       "    .dataframe tbody tr th {\n",
       "        vertical-align: top;\n",
       "    }\n",
       "\n",
       "    .dataframe thead th {\n",
       "        text-align: right;\n",
       "    }\n",
       "</style>\n",
       "<table border=\"1\" class=\"dataframe\">\n",
       "  <thead>\n",
       "    <tr style=\"text-align: right;\">\n",
       "      <th></th>\n",
       "      <th>book_name</th>\n",
       "      <th>price</th>\n",
       "      <th>stock</th>\n",
       "    </tr>\n",
       "  </thead>\n",
       "  <tbody>\n",
       "    <tr>\n",
       "      <th>0</th>\n",
       "      <td>A Light in the ...</td>\n",
       "      <td>£51.77</td>\n",
       "      <td>In stock</td>\n",
       "    </tr>\n",
       "    <tr>\n",
       "      <th>1</th>\n",
       "      <td>Tipping the Velvet</td>\n",
       "      <td>£53.74</td>\n",
       "      <td>In stock</td>\n",
       "    </tr>\n",
       "    <tr>\n",
       "      <th>2</th>\n",
       "      <td>Soumission</td>\n",
       "      <td>£50.10</td>\n",
       "      <td>In stock</td>\n",
       "    </tr>\n",
       "    <tr>\n",
       "      <th>3</th>\n",
       "      <td>Sharp Objects</td>\n",
       "      <td>£47.82</td>\n",
       "      <td>In stock</td>\n",
       "    </tr>\n",
       "    <tr>\n",
       "      <th>4</th>\n",
       "      <td>Sapiens: A Brief History ...</td>\n",
       "      <td>£54.23</td>\n",
       "      <td>In stock</td>\n",
       "    </tr>\n",
       "  </tbody>\n",
       "</table>\n",
       "</div>"
      ],
      "text/plain": [
       "                      book_name   price     stock\n",
       "0            A Light in the ...  £51.77  In stock\n",
       "1            Tipping the Velvet  £53.74  In stock\n",
       "2                    Soumission  £50.10  In stock\n",
       "3                 Sharp Objects  £47.82  In stock\n",
       "4  Sapiens: A Brief History ...  £54.23  In stock"
      ]
     },
     "execution_count": 24,
     "metadata": {},
     "output_type": "execute_result"
    }
   ],
   "source": [
    "df_new.head()"
   ]
  },
  {
   "cell_type": "code",
   "execution_count": 25,
   "id": "fad77011-84c9-4eb2-80f2-070c17d7b300",
   "metadata": {},
   "outputs": [
    {
     "data": {
      "text/plain": [
       "(1000, 3)"
      ]
     },
     "execution_count": 25,
     "metadata": {},
     "output_type": "execute_result"
    }
   ],
   "source": [
    "df_new.shape"
   ]
  },
  {
   "cell_type": "code",
   "execution_count": 26,
   "id": "a9d1d3d5-d94e-4b17-9814-1f1d83e7237a",
   "metadata": {},
   "outputs": [],
   "source": [
    "df_new.to_csv('books_to_scrape.csv', index=False)"
   ]
  },
  {
   "cell_type": "code",
   "execution_count": null,
   "id": "e6168805-506e-440d-b3e0-e68e8f08deba",
   "metadata": {},
   "outputs": [],
   "source": []
  }
 ],
 "metadata": {
  "kernelspec": {
   "display_name": "Python 3 (ipykernel)",
   "language": "python",
   "name": "python3"
  },
  "language_info": {
   "codemirror_mode": {
    "name": "ipython",
    "version": 3
   },
   "file_extension": ".py",
   "mimetype": "text/x-python",
   "name": "python",
   "nbconvert_exporter": "python",
   "pygments_lexer": "ipython3",
   "version": "3.12.6"
  }
 },
 "nbformat": 4,
 "nbformat_minor": 5
}
